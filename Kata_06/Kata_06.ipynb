{
 "cells": [
  {
   "cell_type": "markdown",
   "metadata": {},
   "source": [
    "## Ejercicio 1 Crear y usar listas de Python\n"
   ]
  },
  {
   "cell_type": "code",
   "execution_count": 6,
   "metadata": {},
   "outputs": [
    {
     "name": "stdout",
     "output_type": "stream",
     "text": [
      "['Mercurio', 'Venus', 'Tierra', 'Marte', 'Jupiter', 'Urano', 'Neptuno']\n",
      "Existen  8  planetas en nuestro sistema solar. El último planeta es:  Plutón\n"
     ]
    }
   ],
   "source": [
    "planets = [\"Mercurio\",\"Venus\",\"Tierra\",\"Marte\",\"Jupiter\",\"Urano\",\"Neptuno\"]\n",
    "print(planets)\n",
    "planets.append(\"Plutón\")\n",
    "print(\"Existen \",len(planets),\" planetas en nuestro sistema solar. El último planeta es: \",planets[-1])"
   ]
  },
  {
   "cell_type": "markdown",
   "metadata": {},
   "source": [
    "## Ejercicio 2: Trabajando con datos de una lista"
   ]
  },
  {
   "cell_type": "code",
   "execution_count": 14,
   "metadata": {},
   "outputs": [
    {
     "name": "stdout",
     "output_type": "stream",
     "text": [
      "El planeta  Tierra  se encuentra a  2  planetas alejado del sol.\n",
      "Los planetas mas cercanos al sol son:  ['Mercurio', 'Venus']\n",
      "Los planetas más alejados del sol son:  ['Marte', 'Jupiter', 'Urano', 'Neptuno']\n"
     ]
    }
   ],
   "source": [
    "planets = [\"Mercurio\",\"Venus\",\"Tierra\",\"Marte\",\"Jupiter\",\"Urano\",\"Neptuno\"]\n",
    "nombre_planeta= input(\"Escribe el nombre de un planeta. Asegurate de que comience con una letra en mayuscula.\")\n",
    "planeta_agregado = planets.index(nombre_planeta)\n",
    "print(\"El planeta \",nombre_planeta,\" se encuentra a \",planeta_agregado,\" planetas alejado del sol.\")\n",
    "print(\"Los planetas más cercanos al sol son: \",planets[0:planeta_agregado])\n",
    "print(\"Los planetas más alejados del sol son: \",planets[planeta_agregado+1:])\n"
   ]
  }
 ],
 "metadata": {
  "interpreter": {
   "hash": "7547b18c2fe277021d69fbe06591f140162d57c265419983bb0ec6abbed39c57"
  },
  "kernelspec": {
   "display_name": "Python 3.10.2 64-bit (windows store)",
   "language": "python",
   "name": "python3"
  },
  "language_info": {
   "codemirror_mode": {
    "name": "ipython",
    "version": 3
   },
   "file_extension": ".py",
   "mimetype": "text/x-python",
   "name": "python",
   "nbconvert_exporter": "python",
   "pygments_lexer": "ipython3",
   "version": "3.10.2"
  },
  "orig_nbformat": 4
 },
 "nbformat": 4,
 "nbformat_minor": 2
}
