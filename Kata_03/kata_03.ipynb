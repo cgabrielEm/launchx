{
 "cells": [
  {
   "cell_type": "markdown",
   "metadata": {},
   "source": [
    "Asteroide viaja a 49 km/s\n",
    "\n",
    "Lógica condicional que imprima una advertencia si un asteroide se acerca a la Tierra demasiado rápido. La velocidad del asteroide varía dependiendo de lo cerca que esté del sol, y cualquier velocidad superior a 25 kilómetros por segundo (km/s) merece una advertencia."
   ]
  },
  {
   "cell_type": "code",
   "execution_count": 2,
   "metadata": {},
   "outputs": [
    {
     "name": "stdout",
     "output_type": "stream",
     "text": [
      "Advertencia, un asteroide se acerca a la tierra a una velocidad de 49 km/s.\n"
     ]
    }
   ],
   "source": [
    "velocidadAsteroide = 49\n",
    "velocidadMaximaPermitida = 25\n",
    "\n",
    "if velocidadAsteroide >= velocidadAsteroide:\n",
    "    print(\"Advertencia, un asteroide se acerca a la tierra a una velocidad de \"+ str(velocidadAsteroide) +\" km/s.\")\n",
    "else:\n",
    "    print(\"Se detecta asteroide a una velocidad de \"+ str(velocidadAsteroide) +\" km/s. No hay peligro para la tierra.\")"
   ]
  },
  {
   "cell_type": "markdown",
   "metadata": {},
   "source": [
    "Ateroide viaja a 19 km/s"
   ]
  },
  {
   "cell_type": "code",
   "execution_count": 8,
   "metadata": {},
   "outputs": [
    {
     "name": "stdout",
     "output_type": "stream",
     "text": [
      "Alerta!, busca un asteroide en el cielo.\n"
     ]
    }
   ],
   "source": [
    "velocidadAsteroide = 19\n",
    "velocidadMaximaPermitida = 20\n",
    "\n",
    "if velocidadAsteroide > velocidadMaximaPermitida:\n",
    "    print(\"Alerta!, busca un asteroide en el cielo.\")\n",
    "elif velocidadMaximaPermitida == velocidadMaximaPermitida:\n",
    "    print(\"Alerta!, busca un asteroide en el cielo.\")\n",
    "else:\n",
    "    print(\"Sin novedad\")"
   ]
  },
  {
   "cell_type": "markdown",
   "metadata": {},
   "source": [
    "## Uso de operadores and y or\n"
   ]
  },
  {
   "cell_type": "code",
   "execution_count": 11,
   "metadata": {},
   "outputs": [
    {
     "name": "stdout",
     "output_type": "stream",
     "text": [
      "Alerta, un asteroide viene hacia la tierra\n"
     ]
    }
   ],
   "source": [
    "velocidadAsteroide = 80 #km/s\n",
    "dimensionAsteroide = 50 #metros\n",
    "velocidadMaximaPermitida = 20 #km/s\n",
    "dimensionMinimoAsteroide = 25\n",
    "\n",
    "\n",
    "if velocidadAsteroide > velocidadMaximaPermitida and dimensionAsteroide > dimensionMinimoAsteroide:\n",
    "    # Daño a la tierra\n",
    "    print(\"Alerta, un asteroide viene hacia la tierra\")\n",
    "elif velocidadAsteroide >= velocidadMaximaPermitida:\n",
    "    print(\"Se puede ver un asteroide en el cielo\")\n",
    "elif dimensionAsteroide < dimensionMinimoAsteroide:\n",
    "    print(\"Sin novedad en el cielo\")\n",
    "else:\n",
    "    print(\"Sin novedad en el cielo\")\n"
   ]
  }
 ],
 "metadata": {
  "interpreter": {
   "hash": "7547b18c2fe277021d69fbe06591f140162d57c265419983bb0ec6abbed39c57"
  },
  "kernelspec": {
   "display_name": "Python 3.10.2 64-bit (windows store)",
   "language": "python",
   "name": "python3"
  },
  "language_info": {
   "codemirror_mode": {
    "name": "ipython",
    "version": 3
   },
   "file_extension": ".py",
   "mimetype": "text/x-python",
   "name": "python",
   "nbconvert_exporter": "python",
   "pygments_lexer": "ipython3",
   "version": "3.10.2"
  },
  "orig_nbformat": 4
 },
 "nbformat": 4,
 "nbformat_minor": 2
}
