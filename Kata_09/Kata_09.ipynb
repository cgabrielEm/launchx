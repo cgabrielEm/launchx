{
 "cells": [
  {
   "cell_type": "markdown",
   "metadata": {},
   "source": [
    "## Ejercicio 1: Trabajar con argumentos en funciones"
   ]
  },
  {
   "cell_type": "code",
   "execution_count": 12,
   "metadata": {},
   "outputs": [
    {
     "name": "stdout",
     "output_type": "stream",
     "text": [
      "Reporte de combustible\n",
      " Promedio de combustible: 2.0 \n",
      " Tanque 1:3 \n",
      " Tanque 2:2 \n",
      " Tanque 3:3\n"
     ]
    }
   ],
   "source": [
    "def obtener_promedio(*args):\n",
    "    total_argumentos = len(args)\n",
    "    promedio = (sum(args)/total_argumentos)\n",
    "    return promedio\n",
    "\n",
    "\n",
    "\n",
    "def tanque_combustible(tanque_uno,tanque_dos,tanque_tres):\n",
    "   # total_combustibles = (tanque_uno+tanque_dos+tanque_tres)\n",
    "    reporte= f\"Reporte de combustible\\n Promedio de combustible: {obtener_promedio(tanque_uno,tanque_dos,tanque_tres)} \\n Tanque 1:{tanque_tres} \\n Tanque 2:{tanque_dos} \\n Tanque 3:{tanque_tres}\"\n",
    "    return reporte\n",
    "\n",
    "print(tanque_combustible(1,2,3))"
   ]
  },
  {
   "cell_type": "markdown",
   "metadata": {},
   "source": [
    "## Ejercicio : Trabajar con argumentos de palabras clave en funciones"
   ]
  },
  {
   "cell_type": "code",
   "execution_count": 14,
   "metadata": {},
   "outputs": [
    {
     "name": "stdout",
     "output_type": "stream",
     "text": [
      "\n",
      "    Destino de la misión Moon\n",
      "    Total tiempo de viaje: 74 minutes\n",
      "    Total combustible restante: 500000\n",
      "    main tank --> 300000 gallons left\n",
      "external tank --> 200000 gallons left\n",
      "\n"
     ]
    }
   ],
   "source": [
    "# Escribe tu nueva función\n",
    "\n",
    "def mission_report(destino, *minutos, **fuel_combustible):\n",
    "    main_report = f\"\"\"\n",
    "    Destino de la misión {destino}\n",
    "    Total tiempo de viaje: {sum(minutos)} minutes\n",
    "    Total combustible restante: {sum(fuel_combustible.values())}\n",
    "    \"\"\"\n",
    "    for tank_name, gallons in fuel_combustible.items():\n",
    "        main_report += f\"{tank_name} tank --> {gallons} gallons left\\n\"\n",
    "    return main_report\n",
    "\n",
    "print(mission_report(\"Moon\", 8, 11, 55, main=300000, external=200000))"
   ]
  }
 ],
 "metadata": {
  "interpreter": {
   "hash": "7547b18c2fe277021d69fbe06591f140162d57c265419983bb0ec6abbed39c57"
  },
  "kernelspec": {
   "display_name": "Python 3.10.2 64-bit (windows store)",
   "language": "python",
   "name": "python3"
  },
  "language_info": {
   "codemirror_mode": {
    "name": "ipython",
    "version": 3
   },
   "file_extension": ".py",
   "mimetype": "text/x-python",
   "name": "python",
   "nbconvert_exporter": "python",
   "pygments_lexer": "ipython3",
   "version": "3.10.2"
  },
  "orig_nbformat": 4
 },
 "nbformat": 4,
 "nbformat_minor": 2
}
