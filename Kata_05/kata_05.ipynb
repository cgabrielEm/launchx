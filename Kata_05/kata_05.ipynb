{
 "cells": [
  {
   "cell_type": "markdown",
   "metadata": {},
   "source": [
    "## Utilizando operadores aritméticos"
   ]
  },
  {
   "cell_type": "code",
   "execution_count": 11,
   "metadata": {},
   "outputs": [
    {
     "name": "stdout",
     "output_type": "stream",
     "text": [
      "Distancia en km: 628.9493299999999 \n",
      " Distancia en millas: 390.57753392999996\n"
     ]
    }
   ],
   "source": [
    "import math \n",
    "\n",
    "distancia_tierra= 149.597870 #km\n",
    "distancia_jupiter = 778.547200 #km\n",
    "\n",
    "distancia_entre_planetas_km = distancia_tierra - distancia_jupiter\n",
    "distancia_entre_planetas_millas = distancia_entre_planetas_km * 0.621\n",
    "print(f\"Distancia en km: {abs(distancia_entre_planetas_km)} \\n Distancia en millas: {abs(distancia_entre_planetas_millas)}\")"
   ]
  },
  {
   "cell_type": "markdown",
   "metadata": {},
   "source": [
    "### Ejerfcicio 2"
   ]
  },
  {
   "cell_type": "code",
   "execution_count": 4,
   "metadata": {},
   "outputs": [
    {
     "name": "stdout",
     "output_type": "stream",
     "text": [
      "Distancia en km: 3716500000 \n",
      " Distancia en millas: 2319096000.0\n"
     ]
    }
   ],
   "source": [
    "planeta_uno = input(\"Escribe la distancia al sol del primer planeta en Km\")\n",
    "planeta_dos = input(\"Escribe la distancia al sol del segundo planeta en Km\")\n",
    "\n",
    "distancia_entre_planetas = abs(int(planeta_uno)- int(planeta_dos))\n",
    "distancia_entre_planetas_millas = abs(distancia_entre_planetas * 0.624)\n",
    "\n",
    "print(f\"Distancia en km: {distancia_entre_planetas} \\n Distancia en millas: {distancia_entre_planetas_millas}\")\n",
    "\n"
   ]
  }
 ],
 "metadata": {
  "interpreter": {
   "hash": "7547b18c2fe277021d69fbe06591f140162d57c265419983bb0ec6abbed39c57"
  },
  "kernelspec": {
   "display_name": "Python 3.10.2 64-bit (windows store)",
   "language": "python",
   "name": "python3"
  },
  "language_info": {
   "codemirror_mode": {
    "name": "ipython",
    "version": 3
   },
   "file_extension": ".py",
   "mimetype": "text/x-python",
   "name": "python",
   "nbconvert_exporter": "python",
   "pygments_lexer": "ipython3",
   "version": "3.10.2"
  },
  "orig_nbformat": 4
 },
 "nbformat": 4,
 "nbformat_minor": 2
}
